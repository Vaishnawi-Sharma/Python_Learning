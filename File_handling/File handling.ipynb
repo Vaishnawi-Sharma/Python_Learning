{
 "cells": [
  {
   "cell_type": "markdown",
   "id": "a547aee4-3d03-4c11-b576-2952e937181a",
   "metadata": {},
   "source": [
    "## Writing to a file \n"
   ]
  },
  {
   "cell_type": "code",
   "execution_count": 3,
   "id": "94cfe1e0-f678-4ae3-9489-1bd0b9a33b4c",
   "metadata": {},
   "outputs": [
    {
     "ename": "ValueError",
     "evalue": "I/O operation on closed file.",
     "output_type": "error",
     "traceback": [
      "\u001b[31m---------------------------------------------------------------------------\u001b[39m",
      "\u001b[31mValueError\u001b[39m                                Traceback (most recent call last)",
      "\u001b[36mCell\u001b[39m\u001b[36m \u001b[39m\u001b[32mIn[3]\u001b[39m\u001b[32m, line 6\u001b[39m\n\u001b[32m      4\u001b[39m f.close()\n\u001b[32m      5\u001b[39m \u001b[38;5;66;03m# since file is closed hence this will not work\u001b[39;00m\n\u001b[32m----> \u001b[39m\u001b[32m6\u001b[39m \u001b[43mf\u001b[49m\u001b[43m.\u001b[49m\u001b[43mwrite\u001b[49m\u001b[43m(\u001b[49m\u001b[33;43m\"\u001b[39;49m\u001b[33;43mhello\u001b[39;49m\u001b[33;43m\"\u001b[39;49m\u001b[43m)\u001b[49m\n",
      "\u001b[31mValueError\u001b[39m: I/O operation on closed file."
     ]
    }
   ],
   "source": [
    "# case 1 - if file is not present \n",
    "f = open('sample.txt','w')\n",
    "f.write('Hello World') \n",
    "f.close()\n",
    "# since file is closed hence this will not work\n",
    "f.write(\"hello\")\n"
   ]
  },
  {
   "cell_type": "code",
   "execution_count": 2,
   "id": "d236690d-230b-486f-8726-c95706e38bf5",
   "metadata": {},
   "outputs": [],
   "source": [
    "# Write multiline strings\n",
    "f = open('sample1.txt','w')\n",
    "f.write('hello world')\n",
    "f.write('\\nHow are you ??')\n",
    "f.close()"
   ]
  },
  {
   "cell_type": "code",
   "execution_count": 4,
   "id": "3e188b44-c205-47aa-8169-c31e95762aee",
   "metadata": {},
   "outputs": [],
   "source": [
    "# case 2 - if the file is already present \n",
    "f = open('sample.txt','w')\n",
    "f.write('\\nSalman Khan') # All previous content will be overwritten \n",
    "f.close()"
   ]
  },
  {
   "cell_type": "code",
   "execution_count": 5,
   "id": "6f835319-2c11-446e-a1e9-2b6b4743fe85",
   "metadata": {},
   "outputs": [],
   "source": [
    "# how exactly open() works ??\n"
   ]
  },
  {
   "cell_type": "code",
   "execution_count": 7,
   "id": "b12a2464-0cc5-4871-8f45-8d454b2cb709",
   "metadata": {},
   "outputs": [],
   "source": [
    "# Problem with w mode \n",
    "# intoducing appen mode\n",
    "f = open('sample1.txt', 'a')\n",
    "f.write(\"\\nI am fine\") # Content will be append without overwritten \n",
    "f.close()"
   ]
  },
  {
   "cell_type": "code",
   "execution_count": 11,
   "id": "19814969-2b36-42ba-83a6-378951a4f40a",
   "metadata": {},
   "outputs": [],
   "source": [
    "# Write Multiple lines at once\n",
    "L = [\"hello\", \"Hi\", \"How are you\", \"I am Fine\"]\n",
    "f = open(\"sample.txt\",\"a\")\n",
    "for line in L:\n",
    "    f.write('\\n'+line)\n",
    "f.close()"
   ]
  },
  {
   "cell_type": "code",
   "execution_count": 13,
   "id": "3ab3ab0f-9334-4208-9f2c-37ebe2649002",
   "metadata": {},
   "outputs": [],
   "source": [
    "L = [\"hello\\n\", \"Hi\\n\", \"How are you\\n\", \"I am Fine\\n\"]\n",
    "f = open(\"sample1.txt\",\"a\")\n",
    "f.writelines(L)\n",
    "f.close()"
   ]
  },
  {
   "cell_type": "code",
   "execution_count": 21,
   "id": "033edc3e-4bd1-46ee-b649-9b2c19eb75cc",
   "metadata": {},
   "outputs": [],
   "source": [
    "# Writing in a file of a differnt path \n",
    "L = [\"hello\\n\", \"Hi\\n\", \"How are you\\n\", \"I am Fine\\n\"] # Appen will also create the file if it doesn't exist\n",
    "f = open(r\"C:\\Users\\bhard\\Favorites\\file2.txt\",\"a\") # Without file name it will give an error, If you will try to open a folder via it \n",
    "f.writelines(L)\n",
    "f.close()"
   ]
  },
  {
   "cell_type": "code",
   "execution_count": 22,
   "id": "9aadb4da-a738-443c-b815-6a2a367b8d8c",
   "metadata": {},
   "outputs": [
    {
     "name": "stdout",
     "output_type": "stream",
     "text": [
      "\n",
      "Salman Khan\n",
      "hello\n",
      "Hi\n",
      "How are you\n",
      "I am FinehelloHiHow are youI am FinenhellonHinHow are younI am Fine\n",
      "hello\n",
      "Hi\n",
      "How are you\n",
      "I am Fine\n"
     ]
    }
   ],
   "source": [
    "# Reading From Files \n",
    "# -> Using read()\n",
    "f = open(\"sample.txt\", \"r\")\n",
    "data = f.read()\n",
    "print(data)\n",
    "f.close()"
   ]
  },
  {
   "cell_type": "code",
   "execution_count": 36,
   "id": "b0c2580b-fc0f-4042-9232-95a1572dd1b1",
   "metadata": {},
   "outputs": [
    {
     "name": "stdout",
     "output_type": "stream",
     "text": [
      "hello world\n",
      "\n"
     ]
    }
   ],
   "source": [
    "f = open(\"sample1.txt\", \"r\")\n",
    "data = f.readline() # Read line like this will only read the first line, while readlines will read all the lines then give you the list \n",
    "print(data)\n",
    "f.close()"
   ]
  },
  {
   "cell_type": "code",
   "execution_count": 32,
   "id": "d1c17b71-0989-4cb0-83ab-db8ef0da1b26",
   "metadata": {},
   "outputs": [
    {
     "name": "stdout",
     "output_type": "stream",
     "text": [
      "\n",
      "Salman Khan\n",
      "\n",
      "hello\n",
      "\n"
     ]
    }
   ],
   "source": [
    "# readline -> to read line by line \n",
    "f = open(\"sample.txt\", \"r\")\n",
    "print(f.readline(), end ='')\n",
    "print(f.readline())\n",
    "print(f.readline()) # It is printing two line gaps because readline & Print both will change the line \n",
    "f.close()"
   ]
  },
  {
   "cell_type": "code",
   "execution_count": 24,
   "id": "d8212199-ca39-4038-8de8-e858c99ee932",
   "metadata": {},
   "outputs": [
    {
     "name": "stdout",
     "output_type": "stream",
     "text": [
      "\n",
      "Salman Kh\n"
     ]
    }
   ],
   "source": [
    "# Reading up to n chars\n",
    "f = open(\"sample.txt\", \"r\")\n",
    "data = f.read(10)\n",
    "print(data)\n",
    "f.close()"
   ]
  },
  {
   "cell_type": "code",
   "execution_count": 50,
   "id": "eb7e6caa-5288-4ef2-a301-22bdbc58701f",
   "metadata": {},
   "outputs": [
    {
     "name": "stdout",
     "output_type": "stream",
     "text": [
      "7\n"
     ]
    }
   ],
   "source": [
    "# Reading How many lines are there in an file\n",
    "f = open('sample1.txt', 'r')\n",
    "count = 0\n",
    "for i in f :\n",
    "    if  i.isspace():# using \"\", \"\\t\", not we can judge is there ending of a file is not \n",
    "        break\n",
    "    else :\n",
    "        count +=1\n",
    "print(count)\n",
    "f.close()"
   ]
  },
  {
   "cell_type": "code",
   "execution_count": 56,
   "id": "c37d0069-b5a3-4fcc-a601-d471a1052f5d",
   "metadata": {},
   "outputs": [
    {
     "name": "stdout",
     "output_type": "stream",
     "text": [
      "hello world\n",
      "How are you ??\n",
      "I am fine\n",
      "I am finehello\n",
      "Hi\n",
      "How are you\n",
      "I am Fine\n"
     ]
    }
   ],
   "source": [
    "# Reading entire file using readline\n",
    "f = open('sample1.txt', 'r') \n",
    "while True:\n",
    "    data = f.readline()\n",
    "    if data == \"\":\n",
    "        break\n",
    "    else :\n",
    "        print(data,end =\"\" )\n",
    "f.close()"
   ]
  },
  {
   "cell_type": "markdown",
   "id": "ae6107b9-9fa5-493e-9cc8-6ca9418ad539",
   "metadata": {},
   "source": [
    "## Using Context Manager(With)"
   ]
  },
  {
   "cell_type": "markdown",
   "id": "058abc7c-9853-4e36-a271-8fa7f0c9aefc",
   "metadata": {},
   "source": [
    "- It is good idea to close a file after it's usage as it will free up the resources\n",
    "- If we don't close it, Garbage collector would close it\n",
    "- with keyword closes the file as soon as the usge is over"
   ]
  },
  {
   "cell_type": "code",
   "execution_count": 58,
   "id": "2d07d253-1be2-4967-939c-da5ceef15222",
   "metadata": {},
   "outputs": [
    {
     "ename": "ValueError",
     "evalue": "I/O operation on closed file.",
     "output_type": "error",
     "traceback": [
      "\u001b[31m---------------------------------------------------------------------------\u001b[39m",
      "\u001b[31mValueError\u001b[39m                                Traceback (most recent call last)",
      "\u001b[36mCell\u001b[39m\u001b[36m \u001b[39m\u001b[32mIn[58]\u001b[39m\u001b[32m, line 4\u001b[39m\n\u001b[32m      2\u001b[39m \u001b[38;5;28;01mwith\u001b[39;00m \u001b[38;5;28mopen\u001b[39m(\u001b[33m'\u001b[39m\u001b[33msample.txt\u001b[39m\u001b[33m'\u001b[39m, \u001b[33m'\u001b[39m\u001b[33mw\u001b[39m\u001b[33m'\u001b[39m) \u001b[38;5;28;01mas\u001b[39;00m f:\n\u001b[32m      3\u001b[39m     f.write(\u001b[33m\"\u001b[39m\u001b[33mSalman Khan\u001b[39m\u001b[33m\"\u001b[39m)\n\u001b[32m----> \u001b[39m\u001b[32m4\u001b[39m \u001b[43mf\u001b[49m\u001b[43m.\u001b[49m\u001b[43mwrite\u001b[49m\u001b[43m(\u001b[49m\u001b[33;43m\"\u001b[39;49m\u001b[33;43mhello\u001b[39;49m\u001b[33;43m\"\u001b[39;49m\u001b[43m)\u001b[49m\n",
      "\u001b[31mValueError\u001b[39m: I/O operation on closed file."
     ]
    }
   ],
   "source": [
    "# with \n",
    "with open('sample.txt', 'w') as f:\n",
    "    f.write(\"Salman Khan\")\n",
    "f.write(\"hello\")"
   ]
  },
  {
   "cell_type": "code",
   "execution_count": 63,
   "id": "b43a0e3d-fa4e-40c7-8bfa-ca0e7783098a",
   "metadata": {},
   "outputs": [
    {
     "name": "stdout",
     "output_type": "stream",
     "text": [
      "0\n",
      "Salman Khan\n"
     ]
    }
   ],
   "source": [
    "with open('sample.txt', 'r') as f:\n",
    "    print(f.tell())  # Where our file pointer currently is \n",
    "    print(f.read())"
   ]
  },
  {
   "cell_type": "code",
   "execution_count": 3,
   "id": "1a4eeb74-887e-45a4-b3f7-3f3674eef9d5",
   "metadata": {},
   "outputs": [
    {
     "name": "stdout",
     "output_type": "stream",
     "text": [
      "0\n",
      "Salman Kha\n",
      "10\n",
      "n\n"
     ]
    }
   ],
   "source": [
    "# moving within a file -> 10 char then 10 char\n",
    "with open('sample.txt','r') as f:\n",
    "    print(f.tell())\n",
    "    print(f.read(10))\n",
    "    print(f.tell())\n",
    "    print(f.read(10))"
   ]
  },
  {
   "cell_type": "code",
   "execution_count": 6,
   "id": "4c3faaaf-2a44-4f36-a9cb-37a730abbac2",
   "metadata": {},
   "outputs": [],
   "source": [
    "# benefits? ->  to load a big file in memory\n",
    "big_L = [\"hello World \\n \" for i in range(1000)]\n",
    "\n",
    "with open(\"big.txt\",\"w\") as f:\n",
    "    f.writelines(big_L)"
   ]
  },
  {
   "cell_type": "code",
   "execution_count": 8,
   "id": "68dca2c4-ba1f-41fc-b305-396d8ea3acdc",
   "metadata": {},
   "outputs": [
    {
     "name": "stdout",
     "output_type": "stream",
     "text": [
      "llo World \n",
      " hello World \n",
      " hello World \n",
      " hello World \n",
      " hello World \n",
      " hello World \n",
      " hello World \n",
      " hell\n",
      "World \n",
      " hello World \n",
      " hello World \n",
      " hello World \n",
      " hello World \n",
      " hello World \n",
      " hello World \n",
      " hello Wo\n",
      "d \n",
      " hello World \n",
      " hello World \n",
      " hello World \n",
      " hello World \n",
      " hello World \n",
      " hello World \n",
      " hello World \n",
      "hello World \n",
      " hello World \n",
      " hello World \n",
      " hello World \n",
      " hello World \n",
      " hello World \n",
      " hello World \n",
      " he\n",
      "o World \n",
      " hello World \n",
      " hello World \n",
      " hello World \n",
      " hello World \n",
      " hello World \n",
      " hello World \n",
      " hello \n",
      "rld \n",
      " hello World \n",
      " hello World \n",
      " hello World \n",
      " hello World \n",
      " hello World \n",
      " hello World \n",
      " hello Worl\n",
      "\n",
      " hello World \n",
      " hello World \n",
      " hello World \n",
      " hello World \n",
      " hello World \n",
      " hello World \n",
      " hello World \n",
      " \n",
      "llo World \n",
      " hello World \n",
      " hello World \n",
      " hello World \n",
      " hello World \n",
      " hello World \n",
      " hello World \n",
      " hell\n",
      "World \n",
      " hello World \n",
      " hello World \n",
      " hello World \n",
      " hello World \n",
      " hello World \n",
      " hello World \n",
      " hello Wo\n",
      "d \n",
      " hello World \n",
      " hello World \n",
      " hello World \n",
      " hello World \n",
      " hello World \n",
      " hello World \n",
      " hello World \n",
      "hello World \n",
      " hello World \n",
      " hello World \n",
      " hello World \n",
      " hello World \n",
      " hello World \n",
      " hello World \n",
      " he\n",
      "o World \n",
      " hello World \n",
      " hello World \n",
      " hello World \n",
      " hello World \n",
      " hello World \n",
      " hello World \n",
      " hello \n",
      "rld \n",
      " hello World \n",
      " hello World \n",
      " hello World \n",
      " hello World \n",
      " hello World \n",
      " hello World \n",
      " hello Worl\n",
      "\n",
      " hello World \n",
      " hello World \n",
      " hello World \n",
      " hello World \n",
      " hello World \n",
      " hello World \n",
      " hello World \n",
      " \n",
      "llo World \n",
      " hello World \n",
      " hello World \n",
      " hello World \n",
      " hello World \n",
      " hello World \n",
      " hello World \n",
      " hell\n",
      "World \n",
      " hello World \n",
      " hello World \n",
      " hello World \n",
      " hello World \n",
      " hello World \n",
      " hello World \n",
      " hello Wo\n",
      "d \n",
      " hello World \n",
      " hello World \n",
      " hello World \n",
      " hello World \n",
      " hello World \n",
      " hello World \n",
      " hello World \n",
      "hello World \n",
      " hello World \n",
      " hello World \n",
      " hello World \n",
      " hello World \n",
      " hello World \n",
      " hello World \n",
      " he\n",
      "o World \n",
      " hello World \n",
      " hello World \n",
      " hello World \n",
      " hello World \n",
      " hello World \n",
      " hello World \n",
      " hello \n",
      "rld \n",
      " hello World \n",
      " hello World \n",
      " hello World \n",
      " hello World \n",
      " hello World \n",
      " hello World \n",
      " hello Worl\n",
      "\n",
      " hello World \n",
      " hello World \n",
      " hello World \n",
      " hello World \n",
      " hello World \n",
      " hello World \n",
      " hello World \n",
      " \n",
      "llo World \n",
      " hello World \n",
      " hello World \n",
      " hello World \n",
      " hello World \n",
      " hello World \n",
      " hello World \n",
      " hell\n",
      "World \n",
      " hello World \n",
      " hello World \n",
      " hello World \n",
      " hello World \n",
      " hello World \n",
      " hello World \n",
      " hello Wo\n",
      "d \n",
      " hello World \n",
      " hello World \n",
      " hello World \n",
      " hello World \n",
      " hello World \n",
      " hello World \n",
      " hello World \n",
      "hello World \n",
      " hello World \n",
      " hello World \n",
      " hello World \n",
      " hello World \n",
      " hello World \n",
      " hello World \n",
      " he\n",
      "o World \n",
      " hello World \n",
      " hello World \n",
      " hello World \n",
      " hello World \n",
      " hello World \n",
      " hello World \n",
      " hello \n",
      "rld \n",
      " hello World \n",
      " hello World \n",
      " hello World \n",
      " hello World \n",
      " hello World \n",
      " hello World \n",
      " hello Worl\n",
      "\n",
      " hello World \n",
      " hello World \n",
      " hello World \n",
      " hello World \n",
      " hello World \n",
      " hello World \n",
      " hello World \n",
      " \n",
      "llo World \n",
      " hello World \n",
      " hello World \n",
      " hello World \n",
      " hello World \n",
      " hello World \n",
      " hello World \n",
      " hell\n",
      "World \n",
      " hello World \n",
      " hello World \n",
      " hello World \n",
      " hello World \n",
      " hello World \n",
      " hello World \n",
      " hello Wo\n",
      "d \n",
      " hello World \n",
      " hello World \n",
      " hello World \n",
      " hello World \n",
      " hello World \n",
      " hello World \n",
      " hello World \n",
      "hello World \n",
      " hello World \n",
      " hello World \n",
      " hello World \n",
      " hello World \n",
      " hello World \n",
      " hello World \n",
      " he\n",
      "o World \n",
      " hello World \n",
      " hello World \n",
      " hello World \n",
      " hello World \n",
      " hello World \n",
      " hello World \n",
      " hello \n",
      "rld \n",
      " hello World \n",
      " hello World \n",
      " hello World \n",
      " hello World \n",
      " hello World \n",
      " hello World \n",
      " hello Worl\n",
      "\n",
      " hello World \n",
      " hello World \n",
      " hello World \n",
      " hello World \n",
      " hello World \n",
      " hello World \n",
      " hello World \n",
      " \n",
      "llo World \n",
      " hello World \n",
      " hello World \n",
      " hello World \n",
      " hello World \n",
      " hello World \n",
      " hello World \n",
      " hell\n",
      "World \n",
      " hello World \n",
      " hello World \n",
      " hello World \n",
      " hello World \n",
      " hello World \n",
      " hello World \n",
      " hello Wo\n",
      "d \n",
      " hello World \n",
      " hello World \n",
      " hello World \n",
      " hello World \n",
      " hello World \n",
      " hello World \n",
      " hello World \n",
      "hello World \n",
      " hello World \n",
      " hello World \n",
      " hello World \n",
      " hello World \n",
      " hello World \n",
      " hello World \n",
      " he\n",
      "o World \n",
      " hello World \n",
      " hello World \n",
      " hello World \n",
      " hello World \n",
      " hello World \n",
      " hello World \n",
      " hello \n",
      "rld \n",
      " hello World \n",
      " hello World \n",
      " hello World \n",
      " hello World \n",
      " hello World \n",
      " hello World \n",
      " hello Worl\n",
      "\n",
      " hello World \n",
      " hello World \n",
      " hello World \n",
      " hello World \n",
      " hello World \n",
      " hello World \n",
      " hello World \n",
      " \n",
      "llo World \n",
      " hello World \n",
      " hello World \n",
      " hello World \n",
      " hello World \n",
      " hello World \n",
      " hello World \n",
      " hell\n",
      "World \n",
      " hello World \n",
      " hello World \n",
      " hello World \n",
      " hello World \n",
      " hello World \n",
      " hello World \n",
      " hello Wo\n",
      "d \n",
      " hello World \n",
      " hello World \n",
      " hello World \n",
      " hello World \n",
      " hello World \n",
      " hello World \n",
      " hello World \n",
      "hello World \n",
      " hello World \n",
      " hello World \n",
      " hello World \n",
      " hello World \n",
      " hello World \n",
      " hello World \n",
      " he\n",
      "o World \n",
      " hello World \n",
      " hello World \n",
      " hello World \n",
      " hello World \n",
      " hello World \n",
      " hello World \n",
      " hello \n",
      "rld \n",
      " hello World \n",
      " hello World \n",
      " hello World \n",
      " hello World \n",
      " hello World \n",
      " hello World \n",
      " hello Worl\n",
      "\n",
      " hello World \n",
      " hello World \n",
      " hello World \n",
      " hello World \n",
      " hello World \n",
      " hello World \n",
      " hello World \n",
      " \n",
      "llo World \n",
      " hello World \n",
      " hello World \n",
      " hello World \n",
      " hello World \n",
      " hello World \n",
      " hello World \n",
      " hell\n",
      "World \n",
      " hello World \n",
      " hello World \n",
      " hello World \n",
      " hello World \n",
      " hello World \n",
      " hello World \n",
      " hello Wo\n",
      "d \n",
      " hello World \n",
      " hello World \n",
      " hello World \n",
      " hello World \n",
      " hello World \n",
      " hello World \n",
      " hello World \n",
      "hello World \n",
      " hello World \n",
      " hello World \n",
      " hello World \n",
      " hello World \n",
      " hello World \n",
      " hello World \n",
      " he\n",
      "o World \n",
      " hello World \n",
      " hello World \n",
      " hello World \n",
      " hello World \n",
      " hello World \n",
      " hello World \n",
      " hello \n",
      "rld \n",
      " hello World \n",
      " hello World \n",
      " hello World \n",
      " hello World \n",
      " hello World \n",
      " hello World \n",
      " hello Worl\n",
      "\n",
      " hello World \n",
      " hello World \n",
      " hello World \n",
      " hello World \n",
      " hello World \n",
      " hello World \n",
      " hello World \n",
      " \n",
      "llo World \n",
      " hello World \n",
      " hello World \n",
      " hello World \n",
      " hello World \n",
      " hello World \n",
      " hello World \n",
      " hell\n",
      "World \n",
      " hello World \n",
      " hello World \n",
      " hello World \n",
      " hello World \n",
      " hello World \n",
      " hello World \n",
      " hello Wo\n",
      "d \n",
      " hello World \n",
      " hello World \n",
      " hello World \n",
      " hello World \n",
      " hello World \n",
      " hello World \n",
      " hello World \n",
      "hello World \n",
      " hello World \n",
      " hello World \n",
      " hello World \n",
      " hello World \n",
      " hello World \n",
      " hello World \n",
      " he\n",
      "o World \n",
      " hello World \n",
      " hello World \n",
      " hello World \n",
      " hello World \n",
      " hello World \n",
      " hello World \n",
      " hello \n",
      "rld \n",
      " hello World \n",
      " hello World \n",
      " hello World \n",
      " hello World \n",
      " hello World \n",
      " hello World \n",
      " hello Worl\n",
      "\n",
      " hello World \n",
      " hello World \n",
      " hello World \n",
      " hello World \n",
      " hello World \n",
      " hello World \n",
      " hello World \n",
      " \n",
      "llo World \n",
      " hello World \n",
      " hello World \n",
      " hello World \n",
      " hello World \n",
      " hello World \n",
      " hello World \n",
      " hell\n",
      "World \n",
      " hello World \n",
      " hello World \n",
      " hello World \n",
      " hello World \n",
      " hello World \n",
      " hello World \n",
      " hello Wo\n",
      "d \n",
      " hello World \n",
      " hello World \n",
      " hello World \n",
      " hello World \n",
      " hello World \n",
      " hello World \n",
      " hello World \n",
      "hello World \n",
      " hello World \n",
      " hello World \n",
      " hello World \n",
      " hello World \n",
      " hello World \n",
      " hello World \n",
      " he\n",
      "o World \n",
      " hello World \n",
      " hello World \n",
      " hello World \n",
      " hello World \n",
      " hello World \n",
      " hello World \n",
      " hello \n",
      "rld \n",
      " hello World \n",
      " hello World \n",
      " hello World \n",
      " hello World \n",
      " hello World \n",
      " hello World \n",
      " hello Worl\n",
      "\n",
      " hello World \n",
      " hello World \n",
      " hello World \n",
      " hello World \n",
      " hello World \n",
      " hello World \n",
      " hello World \n",
      " \n"
     ]
    }
   ],
   "source": [
    "with open(\"big.txt\",\"r\") as f:\n",
    "    chunk_size = 100\n",
    "    while len(f.read(chunk_size)) > 0:\n",
    "        print(f.read(chunk_size))\n",
    "        # f.read(chunk_size)"
   ]
  },
  {
   "cell_type": "code",
   "execution_count": 23,
   "id": "f3e12072-dda8-41c5-b94c-4d7848e20d45",
   "metadata": {},
   "outputs": [
    {
     "name": "stdout",
     "output_type": "stream",
     "text": [
      "0\n",
      "Salman Kha\n",
      "10\n",
      "n\n",
      "Salman Kha\n",
      "10\n",
      "4\n",
      "11\n"
     ]
    }
   ],
   "source": [
    "# Seek and tell function\n",
    "with open('sample.txt','r') as f:\n",
    "    print(f.tell())\n",
    "    print(f.read(10))\n",
    "    print(f.tell())\n",
    "    print(f.read(10))\n",
    "    f.seek(0)    # seek(reference, Offset) ; Offset = 0 (starting), 1(current), 2(end)  , We can use it with binary mode freely But not in text mode\n",
    "    print(f.read(10))\n",
    "    print(f.tell())\n",
    "    f.seek(0)\n",
    "    f.seek(4, 0)       # For text file Limitation (Moves position 4 from beiginning)\n",
    "    print(f.tell())\n",
    "    f.seek(0, 2)       # For text file Limitation( Moves to the end of file)\n",
    "    print(f.tell())\n",
    "    "
   ]
  },
  {
   "cell_type": "code",
   "execution_count": 25,
   "id": "7f62436a-8f12-4cbd-94c8-2e509dff8fef",
   "metadata": {},
   "outputs": [],
   "source": [
    "# seek during write\n",
    "with open('sample.txt','w') as f:\n",
    "    f.write(\"hello\")\n",
    "    f.seek(0)\n",
    "    f.write(\"Xa\")  # Xallo"
   ]
  },
  {
   "cell_type": "markdown",
   "id": "7b62ede8-1047-42d6-9dc9-88d570bfa453",
   "metadata": {},
   "source": [
    "## Problems with working in text mode\n",
    "- can't work with binary files like images\n",
    "- not good for other data type like int/float/list/tuple"
   ]
  },
  {
   "cell_type": "code",
   "execution_count": 39,
   "id": "e7800d73-2140-4c9b-8eba-ea9787a70a9f",
   "metadata": {},
   "outputs": [
    {
     "ename": "UnicodeDecodeError",
     "evalue": "'charmap' codec can't decode byte 0x81 in position 250: character maps to <undefined>",
     "output_type": "error",
     "traceback": [
      "\u001b[31m---------------------------------------------------------------------------\u001b[39m",
      "\u001b[31mUnicodeDecodeError\u001b[39m                        Traceback (most recent call last)",
      "\u001b[36mCell\u001b[39m\u001b[36m \u001b[39m\u001b[32mIn[39]\u001b[39m\u001b[32m, line 3\u001b[39m\n\u001b[32m      1\u001b[39m \u001b[38;5;66;03m# Working with binary file\u001b[39;00m\n\u001b[32m      2\u001b[39m \u001b[38;5;28;01mwith\u001b[39;00m \u001b[38;5;28mopen\u001b[39m(\u001b[33m\"\u001b[39m\u001b[33mtech_image.jpg\u001b[39m\u001b[33m\"\u001b[39m,\u001b[33m\"\u001b[39m\u001b[33mr\u001b[39m\u001b[33m\"\u001b[39m) \u001b[38;5;28;01mas\u001b[39;00m f:\n\u001b[32m----> \u001b[39m\u001b[32m3\u001b[39m         data = \u001b[43mf\u001b[49m\u001b[43m.\u001b[49m\u001b[43mread\u001b[49m\u001b[43m(\u001b[49m\u001b[43m)\u001b[49m\n\u001b[32m      4\u001b[39m         \u001b[38;5;28mprint\u001b[39m(data)\n",
      "\u001b[36mFile \u001b[39m\u001b[32m~\\Miniconda3\\Lib\\encodings\\cp1252.py:23\u001b[39m, in \u001b[36mIncrementalDecoder.decode\u001b[39m\u001b[34m(self, input, final)\u001b[39m\n\u001b[32m     22\u001b[39m \u001b[38;5;28;01mdef\u001b[39;00m\u001b[38;5;250m \u001b[39m\u001b[34mdecode\u001b[39m(\u001b[38;5;28mself\u001b[39m, \u001b[38;5;28minput\u001b[39m, final=\u001b[38;5;28;01mFalse\u001b[39;00m):\n\u001b[32m---> \u001b[39m\u001b[32m23\u001b[39m     \u001b[38;5;28;01mreturn\u001b[39;00m \u001b[43mcodecs\u001b[49m\u001b[43m.\u001b[49m\u001b[43mcharmap_decode\u001b[49m\u001b[43m(\u001b[49m\u001b[38;5;28;43minput\u001b[39;49m\u001b[43m,\u001b[49m\u001b[38;5;28;43mself\u001b[39;49m\u001b[43m.\u001b[49m\u001b[43merrors\u001b[49m\u001b[43m,\u001b[49m\u001b[43mdecoding_table\u001b[49m\u001b[43m)\u001b[49m[\u001b[32m0\u001b[39m]\n",
      "\u001b[31mUnicodeDecodeError\u001b[39m: 'charmap' codec can't decode byte 0x81 in position 250: character maps to <undefined>"
     ]
    }
   ],
   "source": [
    "# Working with binary file\n",
    "with open(\"tech_image.jpg\",\"r\") as f:\n",
    "        data = f.read()\n",
    "        print(data)"
   ]
  },
  {
   "cell_type": "code",
   "execution_count": 34,
   "id": "5e2734a3-dc82-4034-9c18-c7466808beb2",
   "metadata": {},
   "outputs": [],
   "source": [
    "# Working with binary file\n",
    "with open(\"tech_image.jpg\",\"rb\") as f:\n",
    "    with open(\"tech_image_2.jpg\",\"wb\") as wf:\n",
    "        wf.write(f.read())"
   ]
  },
  {
   "cell_type": "code",
   "execution_count": 35,
   "id": "72acf86b-30bb-4447-90f5-977b4b1d0e94",
   "metadata": {},
   "outputs": [
    {
     "ename": "TypeError",
     "evalue": "write() argument must be str, not int",
     "output_type": "error",
     "traceback": [
      "\u001b[31m---------------------------------------------------------------------------\u001b[39m",
      "\u001b[31mTypeError\u001b[39m                                 Traceback (most recent call last)",
      "\u001b[36mCell\u001b[39m\u001b[36m \u001b[39m\u001b[32mIn[35]\u001b[39m\u001b[32m, line 3\u001b[39m\n\u001b[32m      1\u001b[39m \u001b[38;5;66;03m# Working with other data types\u001b[39;00m\n\u001b[32m      2\u001b[39m \u001b[38;5;28;01mwith\u001b[39;00m \u001b[38;5;28mopen\u001b[39m(\u001b[33m\"\u001b[39m\u001b[33msample.txt\u001b[39m\u001b[33m\"\u001b[39m, \u001b[33m\"\u001b[39m\u001b[33mw\u001b[39m\u001b[33m\"\u001b[39m) \u001b[38;5;28;01mas\u001b[39;00m f:\n\u001b[32m----> \u001b[39m\u001b[32m3\u001b[39m     \u001b[43mf\u001b[49m\u001b[43m.\u001b[49m\u001b[43mwrite\u001b[49m\u001b[43m(\u001b[49m\u001b[32;43m5\u001b[39;49m\u001b[43m)\u001b[49m\n",
      "\u001b[31mTypeError\u001b[39m: write() argument must be str, not int"
     ]
    }
   ],
   "source": [
    "# Working with other data types\n",
    "with open(\"sample.txt\", \"w\") as f:\n",
    "    f.write(5)"
   ]
  },
  {
   "cell_type": "code",
   "execution_count": 36,
   "id": "7836dfc4-d9b5-4858-9573-e3481c5bcc94",
   "metadata": {},
   "outputs": [
    {
     "ename": "TypeError",
     "evalue": "can only concatenate str (not \"int\") to str",
     "output_type": "error",
     "traceback": [
      "\u001b[31m---------------------------------------------------------------------------\u001b[39m",
      "\u001b[31mTypeError\u001b[39m                                 Traceback (most recent call last)",
      "\u001b[36mCell\u001b[39m\u001b[36m \u001b[39m\u001b[32mIn[36]\u001b[39m\u001b[32m, line 3\u001b[39m\n\u001b[32m      1\u001b[39m \u001b[38;5;66;03m# Working with other data types\u001b[39;00m\n\u001b[32m      2\u001b[39m \u001b[38;5;28;01mwith\u001b[39;00m \u001b[38;5;28mopen\u001b[39m(\u001b[33m\"\u001b[39m\u001b[33msample.txt\u001b[39m\u001b[33m\"\u001b[39m, \u001b[33m\"\u001b[39m\u001b[33mr\u001b[39m\u001b[33m\"\u001b[39m) \u001b[38;5;28;01mas\u001b[39;00m f:\n\u001b[32m----> \u001b[39m\u001b[32m3\u001b[39m     \u001b[38;5;28mprint\u001b[39m(\u001b[43mf\u001b[49m\u001b[43m.\u001b[49m\u001b[43mread\u001b[49m\u001b[43m(\u001b[49m\u001b[43m)\u001b[49m\u001b[43m+\u001b[49m\u001b[43m \u001b[49m\u001b[32;43m5\u001b[39;49m)\n",
      "\u001b[31mTypeError\u001b[39m: can only concatenate str (not \"int\") to str"
     ]
    }
   ],
   "source": [
    "# Working with other data types\n",
    "with open(\"sample.txt\", \"r\") as f:\n",
    "    print(f.read()+ 5)"
   ]
  },
  {
   "cell_type": "code",
   "execution_count": 47,
   "id": "e0a8a4c8-9e5e-4fa9-ac69-331e20ce31e6",
   "metadata": {},
   "outputs": [],
   "source": [
    "# more complex data \n",
    "d= {\n",
    "    'name': 'vaishnawi',\n",
    "    'age':18,\n",
    "    'gender':'female'\n",
    "}\n",
    "with open('sample.txt','w') as f:\n",
    "    f.write(str(d))"
   ]
  },
  {
   "cell_type": "code",
   "execution_count": 43,
   "id": "f0a0153b-6878-4aa9-a0b7-76963874d6f4",
   "metadata": {},
   "outputs": [
    {
     "name": "stdout",
     "output_type": "stream",
     "text": [
      "{'name': 'vaishnawi', 'age': 18, 'gender': 'female'}\n",
      "<class 'str'>\n"
     ]
    }
   ],
   "source": [
    "with open('sample.txt','r') as f:\n",
    "    data = f.read()\n",
    "    print(data)\n",
    "    print(type(data))"
   ]
  },
  {
   "cell_type": "code",
   "execution_count": 44,
   "id": "e7950c8f-4c93-495f-b069-221946cd9da9",
   "metadata": {},
   "outputs": [
    {
     "ename": "ValueError",
     "evalue": "dictionary update sequence element #0 has length 1; 2 is required",
     "output_type": "error",
     "traceback": [
      "\u001b[31m---------------------------------------------------------------------------\u001b[39m",
      "\u001b[31mValueError\u001b[39m                                Traceback (most recent call last)",
      "\u001b[36mCell\u001b[39m\u001b[36m \u001b[39m\u001b[32mIn[44]\u001b[39m\u001b[32m, line 3\u001b[39m\n\u001b[32m      1\u001b[39m \u001b[38;5;28;01mwith\u001b[39;00m \u001b[38;5;28mopen\u001b[39m(\u001b[33m'\u001b[39m\u001b[33msample.txt\u001b[39m\u001b[33m'\u001b[39m,\u001b[33m'\u001b[39m\u001b[33mr\u001b[39m\u001b[33m'\u001b[39m) \u001b[38;5;28;01mas\u001b[39;00m f:\n\u001b[32m      2\u001b[39m      data = f.read()\n\u001b[32m----> \u001b[39m\u001b[32m3\u001b[39m      \u001b[38;5;28mprint\u001b[39m(\u001b[38;5;28;43mdict\u001b[39;49m\u001b[43m(\u001b[49m\u001b[43mdata\u001b[49m\u001b[43m)\u001b[49m)\n",
      "\u001b[31mValueError\u001b[39m: dictionary update sequence element #0 has length 1; 2 is required"
     ]
    }
   ],
   "source": [
    "with open('sample.txt','r') as f:\n",
    "     data = f.read()\n",
    "     print(dict(data))"
   ]
  },
  {
   "cell_type": "markdown",
   "id": "a5a8db31-5d16-473b-a42f-f7953f57aa3a",
   "metadata": {},
   "source": [
    "## Serialization & Deserialization"
   ]
  },
  {
   "cell_type": "markdown",
   "id": "ae067da4-9a24-419f-8579-fdc6fe07dc9c",
   "metadata": {},
   "source": [
    "- Serialization: Process of converting Python data types to JSON format.\n",
    "- Deserialization: Process of converting JSON to python data types.\n",
    "\n",
    "JSON is a universal data type followed by all the languages."
   ]
  },
  {
   "cell_type": "code",
   "execution_count": 51,
   "id": "ffb61517-d16e-43fb-9b09-ec2a5de7406d",
   "metadata": {},
   "outputs": [],
   "source": [
    "# Serialization using JSON module.\n",
    "# list\n",
    "import json\n",
    "lst = [3,6,7,8]\n",
    "\n",
    "with open('demo.json', 'w') as f:\n",
    "    json.dump(lst, f)"
   ]
  },
  {
   "cell_type": "code",
   "execution_count": 54,
   "id": "7a470e48-aa27-4c33-8627-92dd66cdbd6b",
   "metadata": {},
   "outputs": [],
   "source": [
    "# dict\n",
    "import json\n",
    "d= {\n",
    "    'name': 'vaishnawi',\n",
    "    'age':18,\n",
    "    'gender':'female'}\n",
    "\n",
    "with open('demo.json', 'w') as f:\n",
    "    json.dump(d,f,indent = 4)\n"
   ]
  },
  {
   "cell_type": "code",
   "execution_count": 62,
   "id": "e40942f6-4ed1-4c0a-9ad9-23f6ddfc7013",
   "metadata": {},
   "outputs": [
    {
     "name": "stdout",
     "output_type": "stream",
     "text": [
      "{'name': 'vaishnawi', 'age': 18, 'gender': 'female'}\n",
      "<class 'dict'>\n"
     ]
    }
   ],
   "source": [
    "# deserialization\n",
    "import json\n",
    "with open(\"demo.json\",\"r\") as f:\n",
    "    d = json.load(f)\n",
    "    print(d)\n",
    "    print(type(d))"
   ]
  },
  {
   "cell_type": "markdown",
   "id": "33ebe556-cf03-4ae2-b8c5-112d1d24a4eb",
   "metadata": {},
   "source": [
    "Why Tuples Become Lists in JSON   ??\n",
    "\n",
    "Python has both tuple and list types:\n",
    "\n",
    "- tuple: immutable, fixed-length\n",
    "\n",
    "- list: mutable, flexible\n",
    "\n",
    "But JSON doesn’t have a tuple type. It only supports:\n",
    "\n",
    "- array → which maps to Python list\n",
    "\n",
    "- object → Python dict\n",
    "\n",
    "- string, number, boolean, null\n",
    "\n",
    "It becomes a JSON array — which is decoded back into a Python list "
   ]
  },
  {
   "cell_type": "code",
   "execution_count": 74,
   "id": "e2890019-6727-4497-85f9-5299d811f54c",
   "metadata": {},
   "outputs": [],
   "source": [
    "# tuple\n",
    "\n",
    "import json\n",
    "tpl = (3,6,7,8)\n",
    "\n",
    "with open('demo.json', 'w') as f:\n",
    "    json.dump(lst, f)   # tuple will also be saved as list"
   ]
  },
  {
   "cell_type": "code",
   "execution_count": 75,
   "id": "3bb82cba-61f8-4de2-b08a-c7645663b11e",
   "metadata": {},
   "outputs": [
    {
     "name": "stdout",
     "output_type": "stream",
     "text": [
      "[3, 6, 7, 8]\n"
     ]
    }
   ],
   "source": [
    "import json\n",
    "with open('demo.json','r') as f:  \n",
    "    d = json.load(f)\n",
    "    print(d)     # still print list"
   ]
  },
  {
   "cell_type": "code",
   "execution_count": 77,
   "id": "0fec570f-3f42-4988-9412-1285f6c6992f",
   "metadata": {},
   "outputs": [
    {
     "ename": "TypeError",
     "evalue": "Object of type set is not JSON serializable",
     "output_type": "error",
     "traceback": [
      "\u001b[31m---------------------------------------------------------------------------\u001b[39m",
      "\u001b[31mTypeError\u001b[39m                                 Traceback (most recent call last)",
      "\u001b[36mCell\u001b[39m\u001b[36m \u001b[39m\u001b[32mIn[77]\u001b[39m\u001b[32m, line 4\u001b[39m\n\u001b[32m      2\u001b[39m \u001b[38;5;28;01mimport\u001b[39;00m\u001b[38;5;250m \u001b[39m\u001b[34;01mjson\u001b[39;00m\n\u001b[32m      3\u001b[39m data = {\u001b[32m1\u001b[39m, \u001b[32m2\u001b[39m, \u001b[32m3\u001b[39m}\n\u001b[32m----> \u001b[39m\u001b[32m4\u001b[39m \u001b[43mjson\u001b[49m\u001b[43m.\u001b[49m\u001b[43mdumps\u001b[49m\u001b[43m(\u001b[49m\u001b[43mdata\u001b[49m\u001b[43m)\u001b[49m  \n",
      "\u001b[36mFile \u001b[39m\u001b[32m~\\Miniconda3\\Lib\\json\\__init__.py:231\u001b[39m, in \u001b[36mdumps\u001b[39m\u001b[34m(obj, skipkeys, ensure_ascii, check_circular, allow_nan, cls, indent, separators, default, sort_keys, **kw)\u001b[39m\n\u001b[32m    226\u001b[39m \u001b[38;5;66;03m# cached encoder\u001b[39;00m\n\u001b[32m    227\u001b[39m \u001b[38;5;28;01mif\u001b[39;00m (\u001b[38;5;129;01mnot\u001b[39;00m skipkeys \u001b[38;5;129;01mand\u001b[39;00m ensure_ascii \u001b[38;5;129;01mand\u001b[39;00m\n\u001b[32m    228\u001b[39m     check_circular \u001b[38;5;129;01mand\u001b[39;00m allow_nan \u001b[38;5;129;01mand\u001b[39;00m\n\u001b[32m    229\u001b[39m     \u001b[38;5;28mcls\u001b[39m \u001b[38;5;129;01mis\u001b[39;00m \u001b[38;5;28;01mNone\u001b[39;00m \u001b[38;5;129;01mand\u001b[39;00m indent \u001b[38;5;129;01mis\u001b[39;00m \u001b[38;5;28;01mNone\u001b[39;00m \u001b[38;5;129;01mand\u001b[39;00m separators \u001b[38;5;129;01mis\u001b[39;00m \u001b[38;5;28;01mNone\u001b[39;00m \u001b[38;5;129;01mand\u001b[39;00m\n\u001b[32m    230\u001b[39m     default \u001b[38;5;129;01mis\u001b[39;00m \u001b[38;5;28;01mNone\u001b[39;00m \u001b[38;5;129;01mand\u001b[39;00m \u001b[38;5;129;01mnot\u001b[39;00m sort_keys \u001b[38;5;129;01mand\u001b[39;00m \u001b[38;5;129;01mnot\u001b[39;00m kw):\n\u001b[32m--> \u001b[39m\u001b[32m231\u001b[39m     \u001b[38;5;28;01mreturn\u001b[39;00m \u001b[43m_default_encoder\u001b[49m\u001b[43m.\u001b[49m\u001b[43mencode\u001b[49m\u001b[43m(\u001b[49m\u001b[43mobj\u001b[49m\u001b[43m)\u001b[49m\n\u001b[32m    232\u001b[39m \u001b[38;5;28;01mif\u001b[39;00m \u001b[38;5;28mcls\u001b[39m \u001b[38;5;129;01mis\u001b[39;00m \u001b[38;5;28;01mNone\u001b[39;00m:\n\u001b[32m    233\u001b[39m     \u001b[38;5;28mcls\u001b[39m = JSONEncoder\n",
      "\u001b[36mFile \u001b[39m\u001b[32m~\\Miniconda3\\Lib\\json\\encoder.py:200\u001b[39m, in \u001b[36mJSONEncoder.encode\u001b[39m\u001b[34m(self, o)\u001b[39m\n\u001b[32m    196\u001b[39m         \u001b[38;5;28;01mreturn\u001b[39;00m encode_basestring(o)\n\u001b[32m    197\u001b[39m \u001b[38;5;66;03m# This doesn't pass the iterator directly to ''.join() because the\u001b[39;00m\n\u001b[32m    198\u001b[39m \u001b[38;5;66;03m# exceptions aren't as detailed.  The list call should be roughly\u001b[39;00m\n\u001b[32m    199\u001b[39m \u001b[38;5;66;03m# equivalent to the PySequence_Fast that ''.join() would do.\u001b[39;00m\n\u001b[32m--> \u001b[39m\u001b[32m200\u001b[39m chunks = \u001b[38;5;28;43mself\u001b[39;49m\u001b[43m.\u001b[49m\u001b[43miterencode\u001b[49m\u001b[43m(\u001b[49m\u001b[43mo\u001b[49m\u001b[43m,\u001b[49m\u001b[43m \u001b[49m\u001b[43m_one_shot\u001b[49m\u001b[43m=\u001b[49m\u001b[38;5;28;43;01mTrue\u001b[39;49;00m\u001b[43m)\u001b[49m\n\u001b[32m    201\u001b[39m \u001b[38;5;28;01mif\u001b[39;00m \u001b[38;5;129;01mnot\u001b[39;00m \u001b[38;5;28misinstance\u001b[39m(chunks, (\u001b[38;5;28mlist\u001b[39m, \u001b[38;5;28mtuple\u001b[39m)):\n\u001b[32m    202\u001b[39m     chunks = \u001b[38;5;28mlist\u001b[39m(chunks)\n",
      "\u001b[36mFile \u001b[39m\u001b[32m~\\Miniconda3\\Lib\\json\\encoder.py:261\u001b[39m, in \u001b[36mJSONEncoder.iterencode\u001b[39m\u001b[34m(self, o, _one_shot)\u001b[39m\n\u001b[32m    256\u001b[39m \u001b[38;5;28;01melse\u001b[39;00m:\n\u001b[32m    257\u001b[39m     _iterencode = _make_iterencode(\n\u001b[32m    258\u001b[39m         markers, \u001b[38;5;28mself\u001b[39m.default, _encoder, indent, floatstr,\n\u001b[32m    259\u001b[39m         \u001b[38;5;28mself\u001b[39m.key_separator, \u001b[38;5;28mself\u001b[39m.item_separator, \u001b[38;5;28mself\u001b[39m.sort_keys,\n\u001b[32m    260\u001b[39m         \u001b[38;5;28mself\u001b[39m.skipkeys, _one_shot)\n\u001b[32m--> \u001b[39m\u001b[32m261\u001b[39m \u001b[38;5;28;01mreturn\u001b[39;00m \u001b[43m_iterencode\u001b[49m\u001b[43m(\u001b[49m\u001b[43mo\u001b[49m\u001b[43m,\u001b[49m\u001b[43m \u001b[49m\u001b[32;43m0\u001b[39;49m\u001b[43m)\u001b[49m\n",
      "\u001b[36mFile \u001b[39m\u001b[32m~\\Miniconda3\\Lib\\json\\encoder.py:180\u001b[39m, in \u001b[36mJSONEncoder.default\u001b[39m\u001b[34m(self, o)\u001b[39m\n\u001b[32m    161\u001b[39m \u001b[38;5;28;01mdef\u001b[39;00m\u001b[38;5;250m \u001b[39m\u001b[34mdefault\u001b[39m(\u001b[38;5;28mself\u001b[39m, o):\n\u001b[32m    162\u001b[39m \u001b[38;5;250m    \u001b[39m\u001b[33;03m\"\"\"Implement this method in a subclass such that it returns\u001b[39;00m\n\u001b[32m    163\u001b[39m \u001b[33;03m    a serializable object for ``o``, or calls the base implementation\u001b[39;00m\n\u001b[32m    164\u001b[39m \u001b[33;03m    (to raise a ``TypeError``).\u001b[39;00m\n\u001b[32m   (...)\u001b[39m\u001b[32m    178\u001b[39m \n\u001b[32m    179\u001b[39m \u001b[33;03m    \"\"\"\u001b[39;00m\n\u001b[32m--> \u001b[39m\u001b[32m180\u001b[39m     \u001b[38;5;28;01mraise\u001b[39;00m \u001b[38;5;167;01mTypeError\u001b[39;00m(\u001b[33mf\u001b[39m\u001b[33m'\u001b[39m\u001b[33mObject of type \u001b[39m\u001b[38;5;132;01m{\u001b[39;00mo.\u001b[34m__class__\u001b[39m.\u001b[34m__name__\u001b[39m\u001b[38;5;132;01m}\u001b[39;00m\u001b[33m \u001b[39m\u001b[33m'\u001b[39m\n\u001b[32m    181\u001b[39m                     \u001b[33mf\u001b[39m\u001b[33m'\u001b[39m\u001b[33mis not JSON serializable\u001b[39m\u001b[33m'\u001b[39m)\n",
      "\u001b[31mTypeError\u001b[39m: Object of type set is not JSON serializable"
     ]
    }
   ],
   "source": [
    "# set\n",
    "import json\n",
    "data = {1, 2, 3}\n",
    "json.dumps(data)  "
   ]
  },
  {
   "cell_type": "code",
   "execution_count": 79,
   "id": "8f5cb6ea-d98a-4e08-8dad-80e7ce956bcb",
   "metadata": {},
   "outputs": [
    {
     "data": {
      "text/plain": [
       "'[1, 2, 3]'"
      ]
     },
     "execution_count": 79,
     "metadata": {},
     "output_type": "execute_result"
    }
   ],
   "source": [
    "import json\n",
    "data = {1, 2, 3}\n",
    "json.dumps(list(data)) # \tSerialize Python object to JSON, Returns a string, Storing JSON in memory, sending over network while dump saves json in a file like object\n"
   ]
  },
  {
   "cell_type": "code",
   "execution_count": 81,
   "id": "9c48508d-8a36-4378-a325-d27a26186839",
   "metadata": {},
   "outputs": [],
   "source": [
    "import json\n",
    "s = {3,6,7,8}\n",
    "\n",
    "with open('demo.json', 'w') as f:\n",
    "    json.dump(list(s), f)   "
   ]
  },
  {
   "cell_type": "code",
   "execution_count": 83,
   "id": "502aa55a-f929-4346-9017-b2fb1c5afccc",
   "metadata": {},
   "outputs": [
    {
     "name": "stdout",
     "output_type": "stream",
     "text": [
      "{8, 3, 6, 7}\n"
     ]
    }
   ],
   "source": [
    "import json\n",
    "with open('demo.json','r') as f:  \n",
    "    d = json.load(f)\n",
    "    print(set(d))"
   ]
  },
  {
   "cell_type": "code",
   "execution_count": 84,
   "id": "ac694db6-779a-4438-a308-642689c608c1",
   "metadata": {},
   "outputs": [],
   "source": [
    "# Serialize and deserialize a nested dict \n",
    "d={\n",
    "    'name':'nitish',\n",
    "    'marks': [23,14,23,56,78]\n",
    "}\n",
    "with open('demo.json', 'w') as f:\n",
    "    json.dump(d,f)"
   ]
  },
  {
   "cell_type": "code",
   "execution_count": 86,
   "id": "437112ee-d608-4993-81a4-00421642ad56",
   "metadata": {},
   "outputs": [
    {
     "name": "stdout",
     "output_type": "stream",
     "text": [
      "{'name': 'nitish', 'marks': [23, 14, 23, 56, 78]}\n"
     ]
    }
   ],
   "source": [
    "with open('demo.json', 'r') as f:\n",
    "    data= json.load(f)\n",
    "    print(data)"
   ]
  },
  {
   "cell_type": "markdown",
   "id": "6f6ef897-b4df-43d1-a0d3-ec211ba28a30",
   "metadata": {},
   "source": [
    "## Serializing & deserializing custom objects"
   ]
  },
  {
   "cell_type": "code",
   "execution_count": 88,
   "id": "85d10dbf-5588-4b7f-b1fc-ae57ca5e9193",
   "metadata": {},
   "outputs": [],
   "source": [
    "class Person:\n",
    "    def __init__(self, fname, lname, age, gender):\n",
    "        self.name = fname\n",
    "        self.lname = lname\n",
    "        self.age = age \n",
    "        self.gender = gender\n",
    "\n",
    "# format to printed in\n",
    "# -> Vaishnawi Sharma -> age 18 -> gender -> female \n"
   ]
  },
  {
   "cell_type": "code",
   "execution_count": 98,
   "id": "4aa13e50-4bfe-4150-8441-1d45dea58c90",
   "metadata": {},
   "outputs": [
    {
     "name": "stdout",
     "output_type": "stream",
     "text": [
      "Vaishnawi\n",
      "Sharma\n",
      "18\n",
      "Female\n"
     ]
    }
   ],
   "source": [
    "person = Person('Vaishnawi', 'Sharma', 18, 'Female')\n",
    "print(person.name)\n",
    "print(person.lname)\n",
    "print(person.age)\n",
    "print(person.gender)"
   ]
  },
  {
   "cell_type": "code",
   "execution_count": 107,
   "id": "c15e8b1b-bdfe-4a41-bd45-a71302180364",
   "metadata": {},
   "outputs": [],
   "source": [
    "# As a string\n",
    "import json\n",
    "\n",
    "def show_object(person):\n",
    "    if isinstance(person, Person):\n",
    "        return \"-> {} {} -> age {} -> gender -> {} \".format(person.name, person.lname, person.age, person.gender)\n",
    "    raise {\"error\": \"Not supported\"}\n",
    "    \n",
    "with open(\"demo1.json\", 'w') as f :\n",
    "    json.dump(person, f, default = show_object)"
   ]
  },
  {
   "cell_type": "code",
   "execution_count": 108,
   "id": "894855cf-1c6f-48b7-a670-269d85bc1e51",
   "metadata": {},
   "outputs": [],
   "source": [
    "# As a Dictionary\n",
    "\n",
    "import json\n",
    "\n",
    "def show_object(person):\n",
    "    if isinstance(person, Person):\n",
    "        return {'name':person.name+ ' '+ person.lname ,\"age\" : person.age, \"gender\" : person.gender }\n",
    "    raise {\"error\": \"Not supported\"}\n",
    "    \n",
    "with open(\"demo2.json\", 'w') as f :\n",
    "    json.dump(person, f, default = show_object, indent =4)"
   ]
  },
  {
   "cell_type": "code",
   "execution_count": 109,
   "id": "121ad50b-1ba5-48be-a045-d576f0875b2e",
   "metadata": {},
   "outputs": [
    {
     "name": "stdout",
     "output_type": "stream",
     "text": [
      "{'name': 'Vaishnawi Sharma', 'age': 18, 'gender': 'Female'}\n",
      "<class 'dict'>\n"
     ]
    }
   ],
   "source": [
    "with open(\"demo2.json\", \"r\") as f :\n",
    "    d = json.load(f)\n",
    "    print(d)\n",
    "    print(type(d))"
   ]
  },
  {
   "cell_type": "code",
   "execution_count": 110,
   "id": "8d513620-87e0-4c2c-ae0f-e3c3c8252800",
   "metadata": {},
   "outputs": [
    {
     "name": "stdout",
     "output_type": "stream",
     "text": [
      "-> Vaishnawi Sharma -> age 18 -> gender -> Female \n",
      "<class 'str'>\n"
     ]
    }
   ],
   "source": [
    "with open(\"demo1.json\", \"r\") as f :\n",
    "    d = json.load(f)\n",
    "    print(d)\n",
    "    print(type(d))"
   ]
  },
  {
   "cell_type": "markdown",
   "id": "04f1e9ce-be4a-4929-b650-32f10e21e8c1",
   "metadata": {},
   "source": [
    "## Pickling"
   ]
  },
  {
   "cell_type": "markdown",
   "id": "9afd808f-4061-4461-8ff1-f154a240f547",
   "metadata": {},
   "source": [
    "Pickling is the process whereby a python object hierarchy is converted into a byte stream, and unpickling is the inverse operation, whereby a byte stream ( from a binary file or bytes-like object) is  converted back into an object hierarchy."
   ]
  },
  {
   "cell_type": "code",
   "execution_count": 111,
   "id": "e35b8e7d-2120-4c03-9a40-88cd3cea0f92",
   "metadata": {},
   "outputs": [],
   "source": [
    "class Person:\n",
    "    def __init__(self, name, age):\n",
    "        self.name = name\n",
    "        self.age = age \n",
    "    def display_info(self):\n",
    "        print(\"Hi my name is \", self.name, \" and I am \", self.age, \" years old\")"
   ]
  },
  {
   "cell_type": "code",
   "execution_count": 112,
   "id": "09cd3fc7-c59c-4ea0-afe5-7fe186e5a98b",
   "metadata": {},
   "outputs": [],
   "source": [
    "p = Person('nitish', 33) "
   ]
  },
  {
   "cell_type": "code",
   "execution_count": 115,
   "id": "aad8ffb3-4096-4cdb-9371-657200154fcc",
   "metadata": {},
   "outputs": [],
   "source": [
    "# pickle dump\n",
    "import pickle \n",
    "with open('person.pkl', 'wb') as f: \n",
    "    pickle.dump(p, f)"
   ]
  },
  {
   "cell_type": "code",
   "execution_count": 116,
   "id": "88b3723c-20d1-447a-91b5-82929de08955",
   "metadata": {},
   "outputs": [
    {
     "name": "stdout",
     "output_type": "stream",
     "text": [
      "Hi my name is  nitish  and I am  33  years old\n"
     ]
    }
   ],
   "source": [
    "# pickle load\n",
    "import pickle \n",
    "with open('person.pkl', 'rb') as f: \n",
    "    p= pickle.load(f)\n",
    "p.display_info()"
   ]
  },
  {
   "cell_type": "markdown",
   "id": "ad13e5e8-584f-49b3-9e2a-419695c492c3",
   "metadata": {},
   "source": [
    "## Pickle vs JSON"
   ]
  },
  {
   "cell_type": "markdown",
   "id": "7168ee8f-8315-42b9-9938-9dac214105cd",
   "metadata": {},
   "source": [
    "Pickle lets the user to store data in binary format. JSON lets user to store data in human-readable text format."
   ]
  },
  {
   "cell_type": "code",
   "execution_count": null,
   "id": "03a6ae27-d4b3-4739-b6bb-440d84bb14aa",
   "metadata": {},
   "outputs": [],
   "source": []
  }
 ],
 "metadata": {
  "kernelspec": {
   "display_name": "Python 3 (ipykernel)",
   "language": "python",
   "name": "python3"
  },
  "language_info": {
   "codemirror_mode": {
    "name": "ipython",
    "version": 3
   },
   "file_extension": ".py",
   "mimetype": "text/x-python",
   "name": "python",
   "nbconvert_exporter": "python",
   "pygments_lexer": "ipython3",
   "version": "3.13.5"
  }
 },
 "nbformat": 4,
 "nbformat_minor": 5
}
